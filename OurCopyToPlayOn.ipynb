{
 "cells": [
  {
   "cell_type": "markdown",
   "metadata": {},
   "source": [
    "# IE 306.02 Assignment 1\n",
    "In this assignment we have implemented a call center simulation. System consists of two M/M/1 queues put one after another. Clients place a call to front desk operator who then further forwards them to an expert operator. Clients may renage after front desk operator while waiting for expert, expert takes a break sometimes and both queues are FCFS. Exact details of both queues can be found in assignment description."
   ]
  },
  {
   "cell_type": "markdown",
   "metadata": {},
   "source": [
    "First we import the basic libraries."
   ]
  },
  {
   "cell_type": "code",
   "execution_count": 1,
   "metadata": {},
   "outputs": [],
   "source": [
    "import simpy\n",
    "import random\n",
    "import numpy.random\n",
    "import numpy as np\n",
    "from math import log,sqrt\n",
    "import itertools\n",
    "from collections import namedtuple"
   ]
  },
  {
   "cell_type": "markdown",
   "metadata": {},
   "source": [
    "A little helper function for formatting seconds to desired time format."
   ]
  },
  {
   "cell_type": "code",
   "execution_count": 2,
   "metadata": {},
   "outputs": [],
   "source": [
    "def format_time(total_minutes):\n",
    "    secs = int((total_minutes % 1)*60)\n",
    "    mins = int(total_minutes % 60)\n",
    "    hours = int(total_minutes //60)\n",
    "    return f\" {hours:02}:{mins:02}:{secs:02}\"\n",
    "        \n",
    "Expert_Q_Stat = namedtuple('Expert_Q_Stat', ['enter_e_q', 'exit_e_q'])"
   ]
  },
  {
   "cell_type": "markdown",
   "metadata": {},
   "source": [
    "Below, we first describe our code and then interpret results.\n",
    "\n",
    "We ollect and report statistics on: \n",
    "\n",
    "* Utilization of the front-desk operator\n",
    "\n",
    "* Utilization of the expert operators, \n",
    "\n",
    "* Average Total Waiting Time,\n",
    "\n",
    "* `Maximum Total Waiting Time` to `Total System Time Ratio`,\n",
    "\n",
    "* Average number of people waiting to be served by the expert operator."
   ]
  },
  {
   "cell_type": "markdown",
   "metadata": {},
   "source": [
    "Global constants that will be used in the code."
   ]
  },
  {
   "cell_type": "code",
   "execution_count": 3,
   "metadata": {},
   "outputs": [],
   "source": [
    "# interarrival rates are exponentially distributed with mean 14.3 min\n",
    "INTERARRIVAL_MEAN = 14.3 \n",
    "# service time of first operator is LogNormal distributed with mean 7.2 and sd 2.7\n",
    "m = 7.2\n",
    "v = 2.7\n",
    "\n",
    "FIRST_SERVICE_MEAN = log((m**2)/sqrt(v+m**2))\n",
    "FIRST_SERVICE_STD = sqrt(log(v/(m**2)+1))\n",
    "\n",
    "\n",
    "# customers leave queue if not serviced in exponentially distributed time with mean 60 min\n",
    "RENEGE_TIME_MEAN = 60\n",
    "# service time of expert is exponentially distributed with mean 10.2\n",
    "EXPERT_SERVICE_MEAN = 10.2\n",
    "# number of breaks taken by expert is Poisson distributed with mean 8 breaks\n",
    "BREAKS_MEAN = 8\n",
    "BREAK_DUR = 3\n",
    "\n",
    "# number of customers simulation will be run for\n",
    "CALLNUM1=1000\n",
    "CALLNUM2=5000\n",
    "\n",
    "LAST_EXIT = 0\n",
    "\n",
    "#RANDOM_SEED = 971\n",
    "#random.seed(RANDOM_SEED)"
   ]
  },
  {
   "cell_type": "markdown",
   "metadata": {},
   "source": [
    "Here, we define the necessary set of arrays for bookkeeping"
   ]
  },
  {
   "cell_type": "code",
   "execution_count": 4,
   "metadata": {},
   "outputs": [],
   "source": [
    "# service times for front-desk operator\n",
    "first_service_times = [] \n",
    "# service times for expert \n",
    "second_service_times = []\n",
    "# time spent by a customer while it waits for the operator (Queue waiting time Wq)\n",
    "first_queue_w_times = [] \n",
    "second_queue_w_times = [] \n",
    "\n",
    "\n",
    "expert_queue_log = []\n",
    "\n",
    "\n",
    "break_count = 0\n",
    "\n"
   ]
  },
  {
   "cell_type": "markdown",
   "metadata": {},
   "source": [
    "We modeled the front desk and expert operators as resources, calls(called customer in code) and breaks that expert takes are modeled as processes. Breaks taken by the expert makes the expert resource unavailable for 3 mins, so it made sense to model breaks as processes that try to get expert resource."
   ]
  },
  {
   "cell_type": "markdown",
   "metadata": {},
   "source": [
    "Class definition for breaks. Breaks are generated for expert operator. When they happen, they take 3 minutes long and expert is not available at that time. "
   ]
  },
  {
   "cell_type": "code",
   "execution_count": 5,
   "metadata": {},
   "outputs": [],
   "source": [
    "class Break:\n",
    "    def __init__(self, env, expert):\n",
    "        self.env = env\n",
    "        self.expert = expert\n",
    "        self.action = env.process(self.happen())\n",
    "    \n",
    "    \n",
    "    def happen(self):\n",
    "        print(f\"Break is on the way \\t\\t\\t\\t at {format_time(self.env.now)}\")\n",
    "        with self.expert.request() as req:\n",
    "            yield req\n",
    "            print(f\"Break started \\t\\t\\t\\t\\t at {format_time(self.env.now)}\")\n",
    "            yield self.env.timeout(BREAK_DUR)\n",
    "            print(f\"Break ended \\t\\t\\t\\t\\t at {format_time(self.env.now)}\")"
   ]
  },
  {
   "cell_type": "markdown",
   "metadata": {},
   "source": [
    "* The class definition for the customers arriving at the modeled system. When they are created, they immediatelly initiate a call (i.e. activate the call process). \n",
    "\n",
    "* Once a call is initiated, this is registered as a request to the operator resource. The customer is put on hold until the resource activates it back. \n",
    "\n",
    "* When the resource is available, the customer is activated and it then initiates first the ask_question_operator process. The duration of a question-answer session is determined randomly according to a LogNormal distribution.\n",
    "\n",
    "* After this, they are forwarded to expert operator. While waiting for the expert, they may renege after some time taken from an exponential distribution if they aren't addressed by the expert.\n",
    "\n",
    "* Service time of the expert is taken from another exponential distribution.\n"
   ]
  },
  {
   "cell_type": "code",
   "execution_count": 6,
   "metadata": {},
   "outputs": [],
   "source": [
    "class Customer(object):\n",
    "    def __init__(self, _id, env, operator, expert):\n",
    "        self.env = env\n",
    "        self.id = _id\n",
    "        self.arrival_t = self.env.now\n",
    "        self.action = env.process(self.call())\n",
    "    \n",
    "    \n",
    "    def call(self):\n",
    "        print(f\"Cust {self.id:4} entered the \\t\\t FRONT Queue. \\t at {format_time(self.arrival_t)}\")\n",
    " \n",
    "        with operator.request() as op_req :\n",
    "            yield op_req\n",
    "            self.wait_front = self.env.now - self.arrival_t\n",
    "            print(f\"Cust {self.id:4} started talking with \\t FRONT Desk \\t at {format_time(self.env.now)}\")\n",
    "            if self.wait_front:\n",
    "                    print(f\"Cust {self.id:4} waited in \\t\\t FRONT Queue \\t for{format_time(self.wait_front)}\")\n",
    "            first_queue_w_times.append(self.wait_front)\n",
    "            yield self.env.process(self.ask_question_operator())\n",
    "            self.finish_operator=self.env.now\n",
    "            print(f\"Cust {self.id:4} entered the \\t\\t EXPERT Queue. \\t at {format_time(self.finish_operator)}\")\n",
    "        \n",
    "        if self.env.now >=60*8:\n",
    "            #Shop is closed\n",
    "            print(f\"Cust {self.id:4} exited \\t\\t SUDDENLY \\t at {format_time(self.env.now)}\")\n",
    "            print(f\"-- shop is closed\")\n",
    "        else:\n",
    "            with expert.request() as exp_req: \n",
    "                enter_e_q = self.env.now\n",
    "                self.patience=random.expovariate(1/RENEGE_TIME_MEAN)\n",
    "                results = yield exp_req | env.timeout(self.patience)\n",
    "                self.wait_exp=self.env.now-self.finish_operator\n",
    "                second_queue_w_times.append(self.wait_exp) \n",
    "                exit_e_q = self.env.now\n",
    "                global expert_queue_log\n",
    "                expert_queue_log.append(Expert_Q_Stat(enter_e_q, exit_e_q))\n",
    "\n",
    "                if exp_req not in results:\n",
    "                    #Leave queue, regened\n",
    "                    print(f\"Cust {self.id:4} exited \\t\\t SUDDENLY \\t at {format_time(self.env.now)}\")\n",
    "                    print(f\"-- after waiting {format_time(self.wait_exp)}\")\n",
    "\n",
    "                else:\n",
    "                # We got to the expert\n",
    "                    print(f\"Cust {self.id:4} started talking with \\t EXPERT \\t at {format_time(self.env.now)}\")\n",
    "                    if self.wait_exp:\n",
    "                        print(f\"Cust {self.id:4} waited in \\t\\t EXPERT Queue \\t for{format_time(self.wait_exp)}\")\n",
    "                    yield self.env.process(self.ask_question_expert())\n",
    "                    self.finish_expert=self.env.now\n",
    "                    print(f\"Cust {self.id:4} exited \\t\\t NORMALLY \\t at {format_time(self.finish_expert)}\")\n",
    "        \n",
    "        global LAST_EXIT\n",
    "        LAST_EXIT = self.env.now\n",
    "            \n",
    "    def ask_question_operator(self):\n",
    "        service_opr = random.lognormvariate(FIRST_SERVICE_MEAN,FIRST_SERVICE_STD)\n",
    "        first_service_times.append(service_opr)\n",
    "        yield self.env.timeout(service_opr)\n",
    "\n",
    "\n",
    "    def ask_question_expert(self):\n",
    "        service_exp = random.expovariate(1/EXPERT_SERVICE_MEAN)\n",
    "        second_service_times.append(service_exp)\n",
    "        yield self.env.timeout(service_exp)"
   ]
  },
  {
   "cell_type": "markdown",
   "metadata": {},
   "source": [
    "Generator functions for customers and breaks. \n",
    "\n",
    "* Interrarrival times for both are taken from different exponential distributions. \n",
    "\n",
    "* Customer generator runs as many times as the number of total customers we want in our simulation, break generator runs through the whole shift.\n"
   ]
  },
  {
   "cell_type": "code",
   "execution_count": 7,
   "metadata": {},
   "outputs": [],
   "source": [
    "def customer_generator(env, operator,expert,callnum):\n",
    "    for i in range(callnum):\n",
    "        if env.now >= 60*8:\n",
    "            break\n",
    "        time_between_next_customer = random.expovariate(1.0 / INTERARRIVAL_MEAN)\n",
    "        customer = Customer(i+1, env, operator,expert)\n",
    "        if env.now + time_between_next_customer >= 60*8:\n",
    "            break\n",
    "        yield env.timeout(time_between_next_customer)\n",
    "        \n",
    "def break_generator(env, expert):\n",
    "    while True:\n",
    "        time_to_break = random.expovariate(1/60)\n",
    "        if env.now + time_to_break >= 60*8:\n",
    "            break\n",
    "        yield env.timeout(time_to_break)\n",
    "        Break(env, expert)\n",
    "        global break_count\n",
    "        break_count += 1"
   ]
  },
  {
   "cell_type": "markdown",
   "metadata": {},
   "source": [
    "Here, we define our processes and resources and start running the simulation environment!"
   ]
  },
  {
   "cell_type": "code",
   "execution_count": 8,
   "metadata": {},
   "outputs": [
    {
     "name": "stdout",
     "output_type": "stream",
     "text": [
      "Cust    1 entered the \t\t FRONT Queue. \t at  00:00:00\n",
      "Cust    1 started talking with \t FRONT Desk \t at  00:00:00\n",
      "Cust    1 entered the \t\t EXPERT Queue. \t at  00:08:04\n",
      "Cust    1 started talking with \t EXPERT \t at  00:08:04\n",
      "Cust    1 exited \t\t NORMALLY \t at  00:08:09\n",
      "Cust    2 entered the \t\t FRONT Queue. \t at  00:14:20\n",
      "Cust    2 started talking with \t FRONT Desk \t at  00:14:20\n",
      "Cust    2 entered the \t\t EXPERT Queue. \t at  00:21:08\n",
      "Cust    2 started talking with \t EXPERT \t at  00:21:08\n",
      "Break is on the way \t\t\t\t at  00:22:54\n",
      "Cust    3 entered the \t\t FRONT Queue. \t at  00:23:07\n",
      "Cust    3 started talking with \t FRONT Desk \t at  00:23:07\n",
      "Cust    3 entered the \t\t EXPERT Queue. \t at  00:31:36\n",
      "Cust    3 exited \t\t SUDDENLY \t at  00:34:11\n",
      "-- after waiting  00:02:34\n",
      "Cust    2 exited \t\t NORMALLY \t at  00:46:46\n",
      "Break started \t\t\t\t\t at  00:46:46\n",
      "Break ended \t\t\t\t\t at  00:49:46\n",
      "Cust    4 entered the \t\t FRONT Queue. \t at  00:53:56\n",
      "Cust    4 started talking with \t FRONT Desk \t at  00:53:56\n",
      "Cust    4 entered the \t\t EXPERT Queue. \t at  01:03:16\n",
      "Cust    4 started talking with \t EXPERT \t at  01:03:16\n",
      "Cust    4 exited \t\t NORMALLY \t at  01:11:05\n",
      "Cust    5 entered the \t\t FRONT Queue. \t at  01:14:27\n",
      "Cust    5 started talking with \t FRONT Desk \t at  01:14:27\n",
      "Cust    6 entered the \t\t FRONT Queue. \t at  01:19:14\n",
      "Cust    5 entered the \t\t EXPERT Queue. \t at  01:21:26\n",
      "Cust    6 started talking with \t FRONT Desk \t at  01:21:26\n",
      "Cust    6 waited in \t\t FRONT Queue \t for 00:02:11\n",
      "Cust    5 started talking with \t EXPERT \t at  01:21:26\n",
      "Cust    5 exited \t\t NORMALLY \t at  01:25:32\n",
      "Cust    7 entered the \t\t FRONT Queue. \t at  01:26:52\n",
      "Cust    6 entered the \t\t EXPERT Queue. \t at  01:31:21\n",
      "Cust    7 started talking with \t FRONT Desk \t at  01:31:21\n",
      "Cust    7 waited in \t\t FRONT Queue \t for 00:04:29\n",
      "Cust    6 started talking with \t EXPERT \t at  01:31:21\n",
      "Cust    6 exited \t\t NORMALLY \t at  01:34:56\n",
      "Cust    8 entered the \t\t FRONT Queue. \t at  01:37:26\n",
      "Cust    7 entered the \t\t EXPERT Queue. \t at  01:38:53\n",
      "Cust    8 started talking with \t FRONT Desk \t at  01:38:53\n",
      "Cust    8 waited in \t\t FRONT Queue \t for 00:01:27\n",
      "Cust    7 started talking with \t EXPERT \t at  01:38:53\n",
      "Cust    7 exited \t\t NORMALLY \t at  01:44:06\n",
      "Cust    9 entered the \t\t FRONT Queue. \t at  01:44:46\n",
      "Cust    8 entered the \t\t EXPERT Queue. \t at  01:47:46\n",
      "Cust    9 started talking with \t FRONT Desk \t at  01:47:46\n",
      "Cust    9 waited in \t\t FRONT Queue \t for 00:02:59\n",
      "Cust    8 started talking with \t EXPERT \t at  01:47:46\n",
      "Break is on the way \t\t\t\t at  01:48:14\n",
      "Cust   10 entered the \t\t FRONT Queue. \t at  01:50:08\n",
      "Cust    8 exited \t\t NORMALLY \t at  01:52:44\n",
      "Break started \t\t\t\t\t at  01:52:44\n",
      "Cust    9 entered the \t\t EXPERT Queue. \t at  01:54:43\n",
      "Cust   10 started talking with \t FRONT Desk \t at  01:54:43\n",
      "Cust   10 waited in \t\t FRONT Queue \t for 00:04:35\n",
      "Break ended \t\t\t\t\t at  01:55:44\n",
      "Cust    9 started talking with \t EXPERT \t at  01:55:44\n",
      "Cust    9 waited in \t\t EXPERT Queue \t for 00:01:00\n",
      "Cust   10 entered the \t\t EXPERT Queue. \t at  02:01:12\n",
      "Cust   11 entered the \t\t FRONT Queue. \t at  02:26:01\n",
      "Cust   11 started talking with \t FRONT Desk \t at  02:26:01\n",
      "Cust   12 entered the \t\t FRONT Queue. \t at  02:29:48\n",
      "Cust   11 entered the \t\t EXPERT Queue. \t at  02:31:47\n",
      "Cust   12 started talking with \t FRONT Desk \t at  02:31:47\n",
      "Cust   12 waited in \t\t FRONT Queue \t for 00:01:58\n",
      "Cust    9 exited \t\t NORMALLY \t at  02:32:09\n",
      "Cust   10 started talking with \t EXPERT \t at  02:32:09\n",
      "Cust   10 waited in \t\t EXPERT Queue \t for 00:30:57\n",
      "Cust   13 entered the \t\t FRONT Queue. \t at  02:32:48\n",
      "Cust   12 entered the \t\t EXPERT Queue. \t at  02:36:41\n",
      "Cust   13 started talking with \t FRONT Desk \t at  02:36:41\n",
      "Cust   13 waited in \t\t FRONT Queue \t for 00:03:53\n",
      "Break is on the way \t\t\t\t at  02:41:02\n",
      "Cust   13 entered the \t\t EXPERT Queue. \t at  02:42:46\n",
      "Cust   10 exited \t\t NORMALLY \t at  02:43:33\n",
      "Cust   11 started talking with \t EXPERT \t at  02:43:33\n",
      "Cust   11 waited in \t\t EXPERT Queue \t for 00:11:45\n",
      "Cust   12 exited \t\t SUDDENLY \t at  02:44:22\n",
      "-- after waiting  00:07:40\n",
      "Cust   13 exited \t\t SUDDENLY \t at  02:44:37\n",
      "-- after waiting  00:01:50\n",
      "Cust   11 exited \t\t NORMALLY \t at  03:01:43\n",
      "Break started \t\t\t\t\t at  03:01:43\n",
      "Break ended \t\t\t\t\t at  03:04:43\n",
      "Cust   14 entered the \t\t FRONT Queue. \t at  03:12:33\n",
      "Cust   14 started talking with \t FRONT Desk \t at  03:12:33\n",
      "Cust   15 entered the \t\t FRONT Queue. \t at  03:19:35\n",
      "Cust   14 entered the \t\t EXPERT Queue. \t at  03:21:49\n",
      "Cust   15 started talking with \t FRONT Desk \t at  03:21:49\n",
      "Cust   15 waited in \t\t FRONT Queue \t for 00:02:14\n",
      "Cust   14 started talking with \t EXPERT \t at  03:21:49\n",
      "Cust   16 entered the \t\t FRONT Queue. \t at  03:24:20\n",
      "Break is on the way \t\t\t\t at  03:29:57\n",
      "Cust   15 entered the \t\t EXPERT Queue. \t at  03:30:51\n",
      "Cust   16 started talking with \t FRONT Desk \t at  03:30:51\n",
      "Cust   16 waited in \t\t FRONT Queue \t for 00:06:31\n",
      "Break is on the way \t\t\t\t at  03:34:50\n",
      "Cust   16 entered the \t\t EXPERT Queue. \t at  03:39:08\n",
      "Cust   17 entered the \t\t FRONT Queue. \t at  03:40:28\n",
      "Cust   17 started talking with \t FRONT Desk \t at  03:40:28\n",
      "Cust   14 exited \t\t NORMALLY \t at  03:40:29\n",
      "Break started \t\t\t\t\t at  03:40:29\n",
      "Break ended \t\t\t\t\t at  03:43:29\n",
      "Cust   15 started talking with \t EXPERT \t at  03:43:29\n",
      "Cust   15 waited in \t\t EXPERT Queue \t for 00:12:38\n",
      "Cust   18 entered the \t\t FRONT Queue. \t at  03:44:20\n",
      "Cust   17 entered the \t\t EXPERT Queue. \t at  03:45:44\n",
      "Cust   18 started talking with \t FRONT Desk \t at  03:45:44\n",
      "Cust   18 waited in \t\t FRONT Queue \t for 00:01:23\n",
      "Cust   15 exited \t\t NORMALLY \t at  03:45:45\n",
      "Break started \t\t\t\t\t at  03:45:45\n",
      "Break ended \t\t\t\t\t at  03:48:45\n",
      "Cust   16 started talking with \t EXPERT \t at  03:48:45\n",
      "Cust   16 waited in \t\t EXPERT Queue \t for 00:09:36\n",
      "Cust   16 exited \t\t NORMALLY \t at  03:48:45\n",
      "Cust   17 started talking with \t EXPERT \t at  03:48:45\n",
      "Cust   17 waited in \t\t EXPERT Queue \t for 00:03:01\n",
      "Cust   18 entered the \t\t EXPERT Queue. \t at  03:50:47\n",
      "Break is on the way \t\t\t\t at  04:00:16\n",
      "Cust   18 exited \t\t SUDDENLY \t at  04:36:38\n",
      "-- after waiting  00:45:51\n",
      "Cust   19 entered the \t\t FRONT Queue. \t at  04:42:08\n",
      "Cust   19 started talking with \t FRONT Desk \t at  04:42:08\n",
      "Cust   19 entered the \t\t EXPERT Queue. \t at  04:49:19\n",
      "Cust   20 entered the \t\t FRONT Queue. \t at  04:52:02\n",
      "Cust   20 started talking with \t FRONT Desk \t at  04:52:02\n",
      "Cust   17 exited \t\t NORMALLY \t at  04:53:17\n",
      "Break started \t\t\t\t\t at  04:53:17\n",
      "Break ended \t\t\t\t\t at  04:56:17\n",
      "Cust   19 started talking with \t EXPERT \t at  04:56:17\n",
      "Cust   19 waited in \t\t EXPERT Queue \t for 00:06:58\n",
      "Cust   20 entered the \t\t EXPERT Queue. \t at  04:58:16\n",
      "Cust   19 exited \t\t NORMALLY \t at  05:00:46\n",
      "Cust   20 started talking with \t EXPERT \t at  05:00:46\n",
      "Cust   20 waited in \t\t EXPERT Queue \t for 00:02:30\n",
      "Cust   20 exited \t\t NORMALLY \t at  05:01:45\n",
      "Cust   21 entered the \t\t FRONT Queue. \t at  05:16:55\n",
      "Cust   21 started talking with \t FRONT Desk \t at  05:16:55\n",
      "Cust   21 entered the \t\t EXPERT Queue. \t at  05:24:57\n",
      "Cust   21 started talking with \t EXPERT \t at  05:24:57\n",
      "Cust   22 entered the \t\t FRONT Queue. \t at  05:39:06\n",
      "Cust   22 started talking with \t FRONT Desk \t at  05:39:06\n",
      "Cust   21 exited \t\t NORMALLY \t at  05:40:00\n",
      "Cust   22 entered the \t\t EXPERT Queue. \t at  05:44:57\n",
      "Cust   22 started talking with \t EXPERT \t at  05:44:57\n",
      "Cust   23 entered the \t\t FRONT Queue. \t at  05:45:55\n",
      "Cust   23 started talking with \t FRONT Desk \t at  05:45:55\n",
      "Cust   22 exited \t\t NORMALLY \t at  05:47:34\n",
      "Cust   23 entered the \t\t EXPERT Queue. \t at  05:53:49\n",
      "Cust   23 started talking with \t EXPERT \t at  05:53:49\n",
      "Cust   23 exited \t\t NORMALLY \t at  05:55:36\n",
      "Cust   24 entered the \t\t FRONT Queue. \t at  06:00:39\n",
      "Cust   24 started talking with \t FRONT Desk \t at  06:00:39\n",
      "Cust   24 entered the \t\t EXPERT Queue. \t at  06:09:03\n",
      "Cust   24 started talking with \t EXPERT \t at  06:09:03\n",
      "Cust   25 entered the \t\t FRONT Queue. \t at  06:19:29\n",
      "Cust   25 started talking with \t FRONT Desk \t at  06:19:29\n",
      "Cust   26 entered the \t\t FRONT Queue. \t at  06:23:48\n",
      "Cust   25 entered the \t\t EXPERT Queue. \t at  06:25:44\n",
      "Cust   26 started talking with \t FRONT Desk \t at  06:25:44\n",
      "Cust   26 waited in \t\t FRONT Queue \t for 00:01:56\n",
      "Cust   27 entered the \t\t FRONT Queue. \t at  06:27:29\n",
      "Cust   24 exited \t\t NORMALLY \t at  06:29:26\n",
      "Cust   25 started talking with \t EXPERT \t at  06:29:26\n",
      "Cust   25 waited in \t\t EXPERT Queue \t for 00:03:41\n",
      "Cust   26 entered the \t\t EXPERT Queue. \t at  06:30:35\n",
      "Cust   27 started talking with \t FRONT Desk \t at  06:30:35\n",
      "Cust   27 waited in \t\t FRONT Queue \t for 00:03:05\n",
      "Cust   25 exited \t\t NORMALLY \t at  06:31:01\n",
      "Cust   26 started talking with \t EXPERT \t at  06:31:01\n",
      "Cust   26 waited in \t\t EXPERT Queue \t for 00:00:26\n",
      "Cust   27 entered the \t\t EXPERT Queue. \t at  06:35:28\n",
      "Cust   28 entered the \t\t FRONT Queue. \t at  06:57:48\n",
      "Cust   28 started talking with \t FRONT Desk \t at  06:57:48\n",
      "Cust   28 entered the \t\t EXPERT Queue. \t at  07:03:07\n",
      "Cust   29 entered the \t\t FRONT Queue. \t at  07:08:29\n",
      "Cust   29 started talking with \t FRONT Desk \t at  07:08:29\n",
      "Cust   29 entered the \t\t EXPERT Queue. \t at  07:14:26\n",
      "Cust   30 entered the \t\t FRONT Queue. \t at  07:16:19\n",
      "Cust   30 started talking with \t FRONT Desk \t at  07:16:19\n",
      "Cust   27 exited \t\t SUDDENLY \t at  07:16:36\n",
      "-- after waiting  00:41:08\n",
      "Cust   26 exited \t\t NORMALLY \t at  07:20:18\n",
      "Cust   28 started talking with \t EXPERT \t at  07:20:18\n",
      "Cust   28 waited in \t\t EXPERT Queue \t for 00:17:11\n",
      "Cust   30 entered the \t\t EXPERT Queue. \t at  07:23:05\n",
      "Cust   28 exited \t\t NORMALLY \t at  07:23:35\n",
      "Cust   29 started talking with \t EXPERT \t at  07:23:35\n",
      "Cust   29 waited in \t\t EXPERT Queue \t for 00:09:09\n",
      "Cust   29 exited \t\t NORMALLY \t at  07:29:30\n",
      "Cust   30 started talking with \t EXPERT \t at  07:29:30\n",
      "Cust   30 waited in \t\t EXPERT Queue \t for 00:06:24\n",
      "Cust   30 exited \t\t NORMALLY \t at  07:30:57\n",
      "Cust   31 entered the \t\t FRONT Queue. \t at  07:33:52\n",
      "Cust   31 started talking with \t FRONT Desk \t at  07:33:52\n",
      "Cust   31 entered the \t\t EXPERT Queue. \t at  07:40:30\n",
      "Cust   31 started talking with \t EXPERT \t at  07:40:30\n",
      "Cust   31 exited \t\t NORMALLY \t at  07:47:43\n",
      "Cust   32 entered the \t\t FRONT Queue. \t at  07:59:35\n",
      "Cust   32 started talking with \t FRONT Desk \t at  07:59:35\n",
      "Cust   32 entered the \t\t EXPERT Queue. \t at  08:07:04\n",
      "Cust   32 exited \t\t SUDDENLY \t at  08:07:04\n",
      "-- shop is closed\n"
     ]
    }
   ],
   "source": [
    "env = simpy.Environment()\n",
    "CUSTOMER_NUM=CALLNUM2\n",
    "operator = simpy.Resource(env, capacity = 1)\n",
    "expert=simpy.Resource(env, capacity = 1)\n",
    "env.process(customer_generator(env, operator,expert,CUSTOMER_NUM))\n",
    "env.process(break_generator(env, expert))\n",
    "end_simulation = simpy.Event(env)\n",
    "env.run() "
   ]
  },
  {
   "cell_type": "markdown",
   "metadata": {},
   "source": [
    "Lastly, we print our statistics we gathered from the simulation"
   ]
  },
  {
   "cell_type": "code",
   "execution_count": 9,
   "metadata": {},
   "outputs": [
    {
     "name": "stdout",
     "output_type": "stream",
     "text": [
      "{'break_count': 6, 'util_front': 0.46157751072755226, 'util_exp': 0.6505580821406248, 'avg_total_wait': 7.851847817421176, 'max_wait_2_sys_ratio': 0.9005367245899198, 'avg_len_of_exp_q': 'NO IDEA YET'}\n"
     ]
    }
   ],
   "source": [
    "util_front = sum(first_service_times) / LAST_EXIT\n",
    "util_exp = sum(second_service_times) / LAST_EXIT\n",
    "\n",
    "total_waits = [f_w + e_w for f_w, e_w in itertools.zip_longest(\n",
    "    first_queue_w_times, \n",
    "    second_queue_w_times, \n",
    "    fillvalue=0\n",
    ")]\n",
    "\n",
    "total_services = [f_s + e_s for f_s, e_s in itertools.zip_longest(\n",
    "    first_service_times,\n",
    "    second_service_times,\n",
    "    fillvalue=0\n",
    ")]\n",
    "\n",
    "total_system = [w + s for w, s in itertools.zip_longest(\n",
    "    total_waits,\n",
    "    total_services,\n",
    "    fillvalue=0\n",
    ")]\n",
    "\n",
    "assert(len(total_waits) == len(total_system))\n",
    "\n",
    "max_ratio = max((w/sys if sys else 0 for w, sys in zip(total_waits, total_system)))\n",
    "\n",
    "\n",
    "# print(expert_queue_log)\n",
    "stats = {\n",
    "    \"break_count\": break_count,\n",
    "    \"util_front\": util_front,\n",
    "    \"util_exp\": util_exp,\n",
    "    \"avg_total_wait\": sum(total_waits) / len(total_waits),\n",
    "    \"max_wait_2_sys_ratio\": max_ratio,\n",
    "    \"avg_len_of_exp_q\": \"NO IDEA YET\",\n",
    "}\n",
    "print(stats)"
   ]
  },
  {
   "cell_type": "code",
   "execution_count": 10,
   "metadata": {},
   "outputs": [
    {
     "name": "stdout",
     "output_type": "stream",
     "text": [
      "32\n"
     ]
    }
   ],
   "source": [
    "print (len(first_queue_w_times))"
   ]
  },
  {
   "cell_type": "code",
   "execution_count": 11,
   "metadata": {},
   "outputs": [
    {
     "name": "stdout",
     "output_type": "stream",
     "text": [
      "31\n"
     ]
    }
   ],
   "source": [
    "print (len(second_queue_w_times))"
   ]
  },
  {
   "cell_type": "code",
   "execution_count": 12,
   "metadata": {},
   "outputs": [
    {
     "name": "stdout",
     "output_type": "stream",
     "text": [
      " 11:24:22\n",
      " 08:07:04\n"
     ]
    }
   ],
   "source": [
    "print(format_time(env.now))\n",
    "print(format_time(LAST_EXIT))"
   ]
  },
  {
   "cell_type": "code",
   "execution_count": null,
   "metadata": {},
   "outputs": [],
   "source": []
  }
 ],
 "metadata": {
  "kernelspec": {
   "display_name": "Python 3",
   "language": "python",
   "name": "python3"
  },
  "language_info": {
   "codemirror_mode": {
    "name": "ipython",
    "version": 3
   },
   "file_extension": ".py",
   "mimetype": "text/x-python",
   "name": "python",
   "nbconvert_exporter": "python",
   "pygments_lexer": "ipython3",
   "version": "3.7.2"
  }
 },
 "nbformat": 4,
 "nbformat_minor": 2
}
